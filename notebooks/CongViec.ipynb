{
 "cells": [
  {
   "cell_type": "markdown",
   "source": [
    "###### Phần Công Việc Nhóm\n",
    "\n",
    "\n",
    "### Phần Làm của: Nguyễn Hoàng Anh Khoa\n",
    "1. Phân Tích dữ liệu và xử lí\n",
    "    - ./utils.py\n",
    "    - ./NLP/util.py (các hàm chuẩn bị dữ liệu, xử lí sơ bộ, một số hàm xử lí summaie text)\n",
    "    - ./news_api.py (fix code)\n",
    "    - ./dataset.py\n",
    "    - ./new_query\n",
    "    - ./moving_average_signal.py\n",
    "\n",
    "2. Huấn luyện Models\n",
    "    - ./trainer\n",
    "    - ./trainer/random_forest_trainer.py\n",
    "    - ./trainer/xgboost_trainer.py\n",
    "    - ./trainer/trainer.py\n",
    "    - ./trainer xây dựng grídsearch cho các models\n",
    "    - ./models.py class models chính(Random_Forest, XGBoost, LSTM)\n",
    "    - ./predict_stock.py\n",
    "\n",
    "3. Tìm parameters tốt cho các tập\n",
    "    - ./gridsearch.py\n",
    "\n",
    "4. Gửi thông tin qua api\n",
    "    - ./APP_WEB/app.py\n",
    "    - ./APP_FLASK/TrendPrediction.py\n",
    "\n",
    "\n",
    "### Phần Công Việc của: Biện Quang Huy\n",
    "1. Chuẩn bị data từ API\n",
    "\n",
    "2. Xây dựng trang WEB\n",
    "    - ./APP_WEB/static\n",
    "    - ./APP_WEB/templates\n",
    "\n",
    "3. Đánh Giá Model"
   ],
   "metadata": {
    "collapsed": false
   }
  },
  {
   "cell_type": "code",
   "execution_count": null,
   "outputs": [],
   "source": [],
   "metadata": {
    "collapsed": false
   }
  }
 ],
 "metadata": {
  "kernelspec": {
   "display_name": "Python 3",
   "language": "python",
   "name": "python3"
  },
  "language_info": {
   "codemirror_mode": {
    "name": "ipython",
    "version": 2
   },
   "file_extension": ".py",
   "mimetype": "text/x-python",
   "name": "python",
   "nbconvert_exporter": "python",
   "pygments_lexer": "ipython2",
   "version": "2.7.6"
  }
 },
 "nbformat": 4,
 "nbformat_minor": 0
}
